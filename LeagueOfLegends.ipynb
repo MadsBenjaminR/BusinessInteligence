{
 "cells": [
  {
   "cell_type": "markdown",
   "id": "bfe5d8d7-d173-4946-adcb-157a6ddcd186",
   "metadata": {},
   "source": [
    "Import "
   ]
  },
  {
   "cell_type": "code",
   "execution_count": 2,
   "id": "e3b0a712-8afe-47d4-8e8f-38d15ee74ea6",
   "metadata": {},
   "outputs": [],
   "source": [
    "import pandas as pd"
   ]
  },
  {
   "cell_type": "code",
   "execution_count": 3,
   "id": "0b39a71a-4bd9-4d9d-9992-5b590cd798bb",
   "metadata": {},
   "outputs": [],
   "source": [
    "with open('/Users/mingo/Documents/BI/MP1/champion_info.json') as f:\n",
    " data = json.load(f)\n",
    "#df = pd.read_json(f)"
   ]
  },
  {
   "cell_type": "code",
   "execution_count": 4,
   "id": "dd60c1ab-fdde-4275-9c99-cbfe2e3a5cc0",
   "metadata": {},
   "outputs": [],
   "source": [
    "# Extract the champion data part\n",
    "champ_data = data['data']"
   ]
  },
  {
   "cell_type": "code",
   "execution_count": 5,
   "id": "070903f2-1822-416d-b737-caad1f98f985",
   "metadata": {},
   "outputs": [],
   "source": [
    "# Now make a DataFrame\n",
    "df = pd.DataFrame.from_dict(champ_data, orient='index')"
   ]
  },
  {
   "cell_type": "code",
   "execution_count": 6,
   "id": "62ef0c11-a74b-47d1-bbe2-d2a2d5ec07bb",
   "metadata": {},
   "outputs": [
    {
     "data": {
      "text/plain": [
       "Index(['title', 'id', 'key', 'name'], dtype='object')"
      ]
     },
     "execution_count": 6,
     "metadata": {},
     "output_type": "execute_result"
    }
   ],
   "source": [
    "# Hvilke kolonner findes der?\n",
    "df.columns"
   ]
  },
  {
   "cell_type": "code",
   "execution_count": 7,
   "id": "c1413593-d60c-4d93-b66a-bb4a41e5bfc6",
   "metadata": {},
   "outputs": [
    {
     "data": {
      "text/html": [
       "<div>\n",
       "<style scoped>\n",
       "    .dataframe tbody tr th:only-of-type {\n",
       "        vertical-align: middle;\n",
       "    }\n",
       "\n",
       "    .dataframe tbody tr th {\n",
       "        vertical-align: top;\n",
       "    }\n",
       "\n",
       "    .dataframe thead th {\n",
       "        text-align: right;\n",
       "    }\n",
       "</style>\n",
       "<table border=\"1\" class=\"dataframe\">\n",
       "  <thead>\n",
       "    <tr style=\"text-align: right;\">\n",
       "      <th></th>\n",
       "      <th>title</th>\n",
       "      <th>id</th>\n",
       "      <th>key</th>\n",
       "      <th>name</th>\n",
       "    </tr>\n",
       "  </thead>\n",
       "  <tbody>\n",
       "    <tr>\n",
       "      <th>1</th>\n",
       "      <td>the Dark Child</td>\n",
       "      <td>1</td>\n",
       "      <td>Annie</td>\n",
       "      <td>Annie</td>\n",
       "    </tr>\n",
       "    <tr>\n",
       "      <th>2</th>\n",
       "      <td>the Berserker</td>\n",
       "      <td>2</td>\n",
       "      <td>Olaf</td>\n",
       "      <td>Olaf</td>\n",
       "    </tr>\n",
       "    <tr>\n",
       "      <th>3</th>\n",
       "      <td>the Colossus</td>\n",
       "      <td>3</td>\n",
       "      <td>Galio</td>\n",
       "      <td>Galio</td>\n",
       "    </tr>\n",
       "    <tr>\n",
       "      <th>4</th>\n",
       "      <td>the Card Master</td>\n",
       "      <td>4</td>\n",
       "      <td>TwistedFate</td>\n",
       "      <td>Twisted Fate</td>\n",
       "    </tr>\n",
       "    <tr>\n",
       "      <th>5</th>\n",
       "      <td>the Seneschal of Demacia</td>\n",
       "      <td>5</td>\n",
       "      <td>XinZhao</td>\n",
       "      <td>Xin Zhao</td>\n",
       "    </tr>\n",
       "    <tr>\n",
       "      <th>...</th>\n",
       "      <td>...</td>\n",
       "      <td>...</td>\n",
       "      <td>...</td>\n",
       "      <td>...</td>\n",
       "    </tr>\n",
       "    <tr>\n",
       "      <th>429</th>\n",
       "      <td>the Spear of Vengeance</td>\n",
       "      <td>429</td>\n",
       "      <td>Kalista</td>\n",
       "      <td>Kalista</td>\n",
       "    </tr>\n",
       "    <tr>\n",
       "      <th>432</th>\n",
       "      <td>the Wandering Caretaker</td>\n",
       "      <td>432</td>\n",
       "      <td>Bard</td>\n",
       "      <td>Bard</td>\n",
       "    </tr>\n",
       "    <tr>\n",
       "      <th>497</th>\n",
       "      <td>The Charmer</td>\n",
       "      <td>497</td>\n",
       "      <td>Rakan</td>\n",
       "      <td>Rakan</td>\n",
       "    </tr>\n",
       "    <tr>\n",
       "      <th>498</th>\n",
       "      <td>the Rebel</td>\n",
       "      <td>498</td>\n",
       "      <td>Xayah</td>\n",
       "      <td>Xayah</td>\n",
       "    </tr>\n",
       "    <tr>\n",
       "      <th>516</th>\n",
       "      <td>The Fire below the Mountain</td>\n",
       "      <td>516</td>\n",
       "      <td>Ornn</td>\n",
       "      <td>Ornn</td>\n",
       "    </tr>\n",
       "  </tbody>\n",
       "</table>\n",
       "<p>138 rows × 4 columns</p>\n",
       "</div>"
      ],
      "text/plain": [
       "                           title   id          key          name\n",
       "1                 the Dark Child    1        Annie         Annie\n",
       "2                  the Berserker    2         Olaf          Olaf\n",
       "3                   the Colossus    3        Galio         Galio\n",
       "4                the Card Master    4  TwistedFate  Twisted Fate\n",
       "5       the Seneschal of Demacia    5      XinZhao      Xin Zhao\n",
       "..                           ...  ...          ...           ...\n",
       "429       the Spear of Vengeance  429      Kalista       Kalista\n",
       "432      the Wandering Caretaker  432         Bard          Bard\n",
       "497                  The Charmer  497        Rakan         Rakan\n",
       "498                    the Rebel  498        Xayah         Xayah\n",
       "516  The Fire below the Mountain  516         Ornn          Ornn\n",
       "\n",
       "[138 rows x 4 columns]"
      ]
     },
     "execution_count": 7,
     "metadata": {},
     "output_type": "execute_result"
    }
   ],
   "source": [
    "# Print dataframmet ud\n",
    "df"
   ]
  },
  {
   "cell_type": "markdown",
   "id": "1027c20c-2157-4d3c-97bc-a4dd0986b690",
   "metadata": {},
   "source": [
    "Here you can see the printet dataframe."
   ]
  },
  {
   "cell_type": "code",
   "execution_count": 9,
   "id": "916ba99b-dd4b-4e68-a0c1-a267261d2074",
   "metadata": {},
   "outputs": [
    {
     "data": {
      "text/html": [
       "<div>\n",
       "<style scoped>\n",
       "    .dataframe tbody tr th:only-of-type {\n",
       "        vertical-align: middle;\n",
       "    }\n",
       "\n",
       "    .dataframe tbody tr th {\n",
       "        vertical-align: top;\n",
       "    }\n",
       "\n",
       "    .dataframe thead th {\n",
       "        text-align: right;\n",
       "    }\n",
       "</style>\n",
       "<table border=\"1\" class=\"dataframe\">\n",
       "  <thead>\n",
       "    <tr style=\"text-align: right;\">\n",
       "      <th></th>\n",
       "      <th>title</th>\n",
       "      <th>id</th>\n",
       "      <th>key</th>\n",
       "      <th>name</th>\n",
       "    </tr>\n",
       "  </thead>\n",
       "  <tbody>\n",
       "    <tr>\n",
       "      <th>1</th>\n",
       "      <td>the Dark Child</td>\n",
       "      <td>1</td>\n",
       "      <td>Annie</td>\n",
       "      <td>Annie</td>\n",
       "    </tr>\n",
       "    <tr>\n",
       "      <th>2</th>\n",
       "      <td>the Berserker</td>\n",
       "      <td>2</td>\n",
       "      <td>Olaf</td>\n",
       "      <td>Olaf</td>\n",
       "    </tr>\n",
       "    <tr>\n",
       "      <th>3</th>\n",
       "      <td>the Colossus</td>\n",
       "      <td>3</td>\n",
       "      <td>Galio</td>\n",
       "      <td>Galio</td>\n",
       "    </tr>\n",
       "    <tr>\n",
       "      <th>4</th>\n",
       "      <td>the Card Master</td>\n",
       "      <td>4</td>\n",
       "      <td>TwistedFate</td>\n",
       "      <td>Twisted Fate</td>\n",
       "    </tr>\n",
       "    <tr>\n",
       "      <th>5</th>\n",
       "      <td>the Seneschal of Demacia</td>\n",
       "      <td>5</td>\n",
       "      <td>XinZhao</td>\n",
       "      <td>Xin Zhao</td>\n",
       "    </tr>\n",
       "  </tbody>\n",
       "</table>\n",
       "</div>"
      ],
      "text/plain": [
       "                      title  id          key          name\n",
       "1            the Dark Child   1        Annie         Annie\n",
       "2             the Berserker   2         Olaf          Olaf\n",
       "3              the Colossus   3        Galio         Galio\n",
       "4           the Card Master   4  TwistedFate  Twisted Fate\n",
       "5  the Seneschal of Demacia   5      XinZhao      Xin Zhao"
      ]
     },
     "execution_count": 9,
     "metadata": {},
     "output_type": "execute_result"
    }
   ],
   "source": [
    "# De første fem rækker\n",
    "df.head()"
   ]
  },
  {
   "cell_type": "markdown",
   "id": "86ef6104-2890-45f0-844a-f32c7f26f956",
   "metadata": {},
   "source": [
    "here we just see the first 5 rows of the dataframe prinet"
   ]
  },
  {
   "cell_type": "code",
   "execution_count": 11,
   "id": "7678b9ae-a8e1-46ed-bbf5-a30dc7c02548",
   "metadata": {},
   "outputs": [
    {
     "data": {
      "text/html": [
       "<div>\n",
       "<style scoped>\n",
       "    .dataframe tbody tr th:only-of-type {\n",
       "        vertical-align: middle;\n",
       "    }\n",
       "\n",
       "    .dataframe tbody tr th {\n",
       "        vertical-align: top;\n",
       "    }\n",
       "\n",
       "    .dataframe thead th {\n",
       "        text-align: right;\n",
       "    }\n",
       "</style>\n",
       "<table border=\"1\" class=\"dataframe\">\n",
       "  <thead>\n",
       "    <tr style=\"text-align: right;\">\n",
       "      <th></th>\n",
       "      <th>title</th>\n",
       "      <th>id</th>\n",
       "      <th>key</th>\n",
       "      <th>name</th>\n",
       "    </tr>\n",
       "  </thead>\n",
       "  <tbody>\n",
       "    <tr>\n",
       "      <th>429</th>\n",
       "      <td>the Spear of Vengeance</td>\n",
       "      <td>429</td>\n",
       "      <td>Kalista</td>\n",
       "      <td>Kalista</td>\n",
       "    </tr>\n",
       "    <tr>\n",
       "      <th>432</th>\n",
       "      <td>the Wandering Caretaker</td>\n",
       "      <td>432</td>\n",
       "      <td>Bard</td>\n",
       "      <td>Bard</td>\n",
       "    </tr>\n",
       "    <tr>\n",
       "      <th>497</th>\n",
       "      <td>The Charmer</td>\n",
       "      <td>497</td>\n",
       "      <td>Rakan</td>\n",
       "      <td>Rakan</td>\n",
       "    </tr>\n",
       "    <tr>\n",
       "      <th>498</th>\n",
       "      <td>the Rebel</td>\n",
       "      <td>498</td>\n",
       "      <td>Xayah</td>\n",
       "      <td>Xayah</td>\n",
       "    </tr>\n",
       "    <tr>\n",
       "      <th>516</th>\n",
       "      <td>The Fire below the Mountain</td>\n",
       "      <td>516</td>\n",
       "      <td>Ornn</td>\n",
       "      <td>Ornn</td>\n",
       "    </tr>\n",
       "  </tbody>\n",
       "</table>\n",
       "</div>"
      ],
      "text/plain": [
       "                           title   id      key     name\n",
       "429       the Spear of Vengeance  429  Kalista  Kalista\n",
       "432      the Wandering Caretaker  432     Bard     Bard\n",
       "497                  The Charmer  497    Rakan    Rakan\n",
       "498                    the Rebel  498    Xayah    Xayah\n",
       "516  The Fire below the Mountain  516     Ornn     Ornn"
      ]
     },
     "execution_count": 11,
     "metadata": {},
     "output_type": "execute_result"
    }
   ],
   "source": [
    "# De sidste fem rækker\n",
    "df.tail()\n"
   ]
  },
  {
   "cell_type": "markdown",
   "id": "862d011a-b83e-4657-8a43-8330adac6796",
   "metadata": {},
   "source": [
    "and here we just see the last five rows "
   ]
  },
  {
   "cell_type": "code",
   "execution_count": 13,
   "id": "aa510f28-724f-44e9-9476-942cabf860c4",
   "metadata": {},
   "outputs": [
    {
     "data": {
      "text/html": [
       "<div>\n",
       "<style scoped>\n",
       "    .dataframe tbody tr th:only-of-type {\n",
       "        vertical-align: middle;\n",
       "    }\n",
       "\n",
       "    .dataframe tbody tr th {\n",
       "        vertical-align: top;\n",
       "    }\n",
       "\n",
       "    .dataframe thead th {\n",
       "        text-align: right;\n",
       "    }\n",
       "</style>\n",
       "<table border=\"1\" class=\"dataframe\">\n",
       "  <thead>\n",
       "    <tr style=\"text-align: right;\">\n",
       "      <th></th>\n",
       "      <th>title</th>\n",
       "      <th>id</th>\n",
       "      <th>key</th>\n",
       "      <th>name</th>\n",
       "    </tr>\n",
       "  </thead>\n",
       "  <tbody>\n",
       "    <tr>\n",
       "      <th>67</th>\n",
       "      <td>the Night Hunter</td>\n",
       "      <td>67</td>\n",
       "      <td>Vayne</td>\n",
       "      <td>Vayne</td>\n",
       "    </tr>\n",
       "    <tr>\n",
       "      <th>43</th>\n",
       "      <td>the Enlightened One</td>\n",
       "      <td>43</td>\n",
       "      <td>Karma</td>\n",
       "      <td>Karma</td>\n",
       "    </tr>\n",
       "    <tr>\n",
       "      <th>202</th>\n",
       "      <td>the Virtuoso</td>\n",
       "      <td>202</td>\n",
       "      <td>Jhin</td>\n",
       "      <td>Jhin</td>\n",
       "    </tr>\n",
       "    <tr>\n",
       "      <th>76</th>\n",
       "      <td>the Bestial Huntress</td>\n",
       "      <td>76</td>\n",
       "      <td>Nidalee</td>\n",
       "      <td>Nidalee</td>\n",
       "    </tr>\n",
       "    <tr>\n",
       "      <th>154</th>\n",
       "      <td>the Secret Weapon</td>\n",
       "      <td>154</td>\n",
       "      <td>Zac</td>\n",
       "      <td>Zac</td>\n",
       "    </tr>\n",
       "  </tbody>\n",
       "</table>\n",
       "</div>"
      ],
      "text/plain": [
       "                    title   id      key     name\n",
       "67       the Night Hunter   67    Vayne    Vayne\n",
       "43    the Enlightened One   43    Karma    Karma\n",
       "202          the Virtuoso  202     Jhin     Jhin\n",
       "76   the Bestial Huntress   76  Nidalee  Nidalee\n",
       "154     the Secret Weapon  154      Zac      Zac"
      ]
     },
     "execution_count": 13,
     "metadata": {},
     "output_type": "execute_result"
    }
   ],
   "source": [
    "# Tilfældige fem rækker\n",
    "df.sample(5)"
   ]
  },
  {
   "cell_type": "markdown",
   "id": "63a636ae-13cc-4813-add8-87fb894b7c84",
   "metadata": {},
   "source": [
    "Here in the dataframe I just randomly select 5 rows of data"
   ]
  },
  {
   "cell_type": "markdown",
   "id": "5bf35ca3-131d-49fe-942b-bf27d97c6a40",
   "metadata": {},
   "source": [
    "Data cleaning"
   ]
  },
  {
   "cell_type": "code",
   "execution_count": 16,
   "id": "56915cb9-a53a-4c22-9ebe-e513d3c8847f",
   "metadata": {
    "scrolled": true
   },
   "outputs": [
    {
     "name": "stdout",
     "output_type": "stream",
     "text": [
      "<class 'pandas.core.frame.DataFrame'>\n",
      "Index: 138 entries, 1 to 516\n",
      "Data columns (total 4 columns):\n",
      " #   Column  Non-Null Count  Dtype \n",
      "---  ------  --------------  ----- \n",
      " 0   title   138 non-null    object\n",
      " 1   id      138 non-null    int64 \n",
      " 2   key     138 non-null    object\n",
      " 3   name    138 non-null    object\n",
      "dtypes: int64(1), object(3)\n",
      "memory usage: 5.4+ KB\n"
     ]
    }
   ],
   "source": [
    "#get an overview \n",
    "df.info()"
   ]
  },
  {
   "cell_type": "markdown",
   "id": "2be9db2a-9a28-4e98-bd84-5bd36d03d836",
   "metadata": {},
   "source": [
    "With the info seen above we can conluded there is no data to clean, since there is 138 entries which matches with 138 non-null"
   ]
  },
  {
   "cell_type": "code",
   "execution_count": 18,
   "id": "fa8543a5-7010-450e-a0ab-6531f0c3db8c",
   "metadata": {},
   "outputs": [],
   "source": [
    "# i have made this exmample of how i would clean up the datafram if it had any NaN values\n",
    "#df = df.drop(['key'], axis=1)"
   ]
  },
  {
   "cell_type": "code",
   "execution_count": 19,
   "id": "6a735892-8903-4cda-a4ec-6f580cd4cfe5",
   "metadata": {},
   "outputs": [
    {
     "data": {
      "text/html": [
       "<div>\n",
       "<style scoped>\n",
       "    .dataframe tbody tr th:only-of-type {\n",
       "        vertical-align: middle;\n",
       "    }\n",
       "\n",
       "    .dataframe tbody tr th {\n",
       "        vertical-align: top;\n",
       "    }\n",
       "\n",
       "    .dataframe thead th {\n",
       "        text-align: right;\n",
       "    }\n",
       "</style>\n",
       "<table border=\"1\" class=\"dataframe\">\n",
       "  <thead>\n",
       "    <tr style=\"text-align: right;\">\n",
       "      <th></th>\n",
       "      <th>title</th>\n",
       "      <th>id</th>\n",
       "      <th>key</th>\n",
       "      <th>name</th>\n",
       "    </tr>\n",
       "  </thead>\n",
       "  <tbody>\n",
       "    <tr>\n",
       "      <th>1</th>\n",
       "      <td>the Dark Child</td>\n",
       "      <td>1</td>\n",
       "      <td>Annie</td>\n",
       "      <td>Annie</td>\n",
       "    </tr>\n",
       "    <tr>\n",
       "      <th>2</th>\n",
       "      <td>the Berserker</td>\n",
       "      <td>2</td>\n",
       "      <td>Olaf</td>\n",
       "      <td>Olaf</td>\n",
       "    </tr>\n",
       "    <tr>\n",
       "      <th>3</th>\n",
       "      <td>the Colossus</td>\n",
       "      <td>3</td>\n",
       "      <td>Galio</td>\n",
       "      <td>Galio</td>\n",
       "    </tr>\n",
       "    <tr>\n",
       "      <th>4</th>\n",
       "      <td>the Card Master</td>\n",
       "      <td>4</td>\n",
       "      <td>TwistedFate</td>\n",
       "      <td>Twisted Fate</td>\n",
       "    </tr>\n",
       "    <tr>\n",
       "      <th>5</th>\n",
       "      <td>the Seneschal of Demacia</td>\n",
       "      <td>5</td>\n",
       "      <td>XinZhao</td>\n",
       "      <td>Xin Zhao</td>\n",
       "    </tr>\n",
       "    <tr>\n",
       "      <th>...</th>\n",
       "      <td>...</td>\n",
       "      <td>...</td>\n",
       "      <td>...</td>\n",
       "      <td>...</td>\n",
       "    </tr>\n",
       "    <tr>\n",
       "      <th>429</th>\n",
       "      <td>the Spear of Vengeance</td>\n",
       "      <td>429</td>\n",
       "      <td>Kalista</td>\n",
       "      <td>Kalista</td>\n",
       "    </tr>\n",
       "    <tr>\n",
       "      <th>432</th>\n",
       "      <td>the Wandering Caretaker</td>\n",
       "      <td>432</td>\n",
       "      <td>Bard</td>\n",
       "      <td>Bard</td>\n",
       "    </tr>\n",
       "    <tr>\n",
       "      <th>497</th>\n",
       "      <td>The Charmer</td>\n",
       "      <td>497</td>\n",
       "      <td>Rakan</td>\n",
       "      <td>Rakan</td>\n",
       "    </tr>\n",
       "    <tr>\n",
       "      <th>498</th>\n",
       "      <td>the Rebel</td>\n",
       "      <td>498</td>\n",
       "      <td>Xayah</td>\n",
       "      <td>Xayah</td>\n",
       "    </tr>\n",
       "    <tr>\n",
       "      <th>516</th>\n",
       "      <td>The Fire below the Mountain</td>\n",
       "      <td>516</td>\n",
       "      <td>Ornn</td>\n",
       "      <td>Ornn</td>\n",
       "    </tr>\n",
       "  </tbody>\n",
       "</table>\n",
       "<p>138 rows × 4 columns</p>\n",
       "</div>"
      ],
      "text/plain": [
       "                           title   id          key          name\n",
       "1                 the Dark Child    1        Annie         Annie\n",
       "2                  the Berserker    2         Olaf          Olaf\n",
       "3                   the Colossus    3        Galio         Galio\n",
       "4                the Card Master    4  TwistedFate  Twisted Fate\n",
       "5       the Seneschal of Demacia    5      XinZhao      Xin Zhao\n",
       "..                           ...  ...          ...           ...\n",
       "429       the Spear of Vengeance  429      Kalista       Kalista\n",
       "432      the Wandering Caretaker  432         Bard          Bard\n",
       "497                  The Charmer  497        Rakan         Rakan\n",
       "498                    the Rebel  498        Xayah         Xayah\n",
       "516  The Fire below the Mountain  516         Ornn          Ornn\n",
       "\n",
       "[138 rows x 4 columns]"
      ]
     },
     "execution_count": 19,
     "metadata": {},
     "output_type": "execute_result"
    }
   ],
   "source": [
    "# print the dataframe\n",
    "df"
   ]
  },
  {
   "cell_type": "markdown",
   "id": "cdde56e0-7da8-4260-925b-460d92dff7ff",
   "metadata": {},
   "source": [
    "now the dataframe is cleaned(if i had removed any values)"
   ]
  },
  {
   "cell_type": "code",
   "execution_count": 21,
   "id": "affcb71e-9373-4045-ad18-e7ed02584520",
   "metadata": {},
   "outputs": [
    {
     "name": "stdout",
     "output_type": "stream",
     "text": [
      "<class 'pandas.core.frame.DataFrame'>\n",
      "Index: 138 entries, 1 to 516\n",
      "Data columns (total 4 columns):\n",
      " #   Column  Non-Null Count  Dtype \n",
      "---  ------  --------------  ----- \n",
      " 0   title   138 non-null    object\n",
      " 1   id      138 non-null    int64 \n",
      " 2   key     138 non-null    object\n",
      " 3   name    138 non-null    object\n",
      "dtypes: int64(1), object(3)\n",
      "memory usage: 5.4+ KB\n"
     ]
    }
   ],
   "source": [
    "df.info()"
   ]
  },
  {
   "cell_type": "markdown",
   "id": "3f57a17c-01ba-4db6-825b-ee32f72b546c",
   "metadata": {},
   "source": [
    "we will compare the non-null value to the entries and as we can see it matched with non-null value. therefor we can conluded that the dataframe is clean now "
   ]
  }
 ],
 "metadata": {
  "kernelspec": {
   "display_name": "Python [conda env:base] *",
   "language": "python",
   "name": "conda-base-py"
  },
  "language_info": {
   "codemirror_mode": {
    "name": "ipython",
    "version": 3
   },
   "file_extension": ".py",
   "mimetype": "text/x-python",
   "name": "python",
   "nbconvert_exporter": "python",
   "pygments_lexer": "ipython3",
   "version": "3.12.7"
  }
 },
 "nbformat": 4,
 "nbformat_minor": 5
}
